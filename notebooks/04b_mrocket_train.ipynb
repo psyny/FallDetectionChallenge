{
 "cells": [
  {
   "cell_type": "markdown",
   "id": "3d619126-e449-4fe2-a4da-2e3ee332eb53",
   "metadata": {},
   "source": [
    "# MiniRocket - Model Trainig\n",
    "MiniRocket + RidgeClassifierCV experiment"
   ]
  },
  {
   "cell_type": "code",
   "execution_count": null,
   "id": "90deb3b9-32e2-4e7e-a784-411c1b76cd3c",
   "metadata": {},
   "outputs": [],
   "source": [
    "from pathlib import Path\n",
    "import json\n",
    "import numpy as np\n",
    "import pandas as pd\n",
    "\n",
    "from sklearn.linear_model import RidgeClassifierCV\n",
    "from sklearn.metrics import accuracy_score, f1_score, classification_report\n",
    "\n",
    "from sktime.transformations.panel.rocket import MiniRocketMultivariate"
   ]
  },
  {
   "cell_type": "code",
   "execution_count": null,
   "id": "bd86f03f-a0d8-4005-951d-78895d3f6829",
   "metadata": {},
   "outputs": [],
   "source": [
    "DATA_DIR = Path(\"../data\")\n",
    "MODEL_DIR = Path(\"../models\")\n",
    "\n",
    "ARTIFACTS_MINI = DATA_DIR / \"artifacts/minirocket\"\n",
    "ARTIFACTS_MINI.mkdir(parents=True, exist_ok=True)\n",
    "\n",
    "RUN_DIR = MODEL_DIR / \"minirocket/baseline\"\n",
    "RUN_DIR.mkdir(parents=True, exist_ok=True)"
   ]
  },
  {
   "cell_type": "markdown",
   "id": "6bbaed8f-b490-4cbf-b4a3-0aec276e5bb9",
   "metadata": {},
   "source": [
    "## Load Data"
   ]
  },
  {
   "cell_type": "code",
   "execution_count": null,
   "id": "84b0bbbd-d831-49fb-a105-a2ff25de5f10",
   "metadata": {},
   "outputs": [],
   "source": [
    "# Load manifest (metadata)\n",
    "manifest_path = ARTIFACTS_MINI / \"manifest.json\"\n",
    "with open(manifest_path, \"r\") as f:\n",
    "    manifest = json.load(f)\n",
    "\n",
    "print(\"Manifest loaded.\")\n",
    "print(json.dumps({\n",
    "    \"resample_len\": manifest[\"resample_len\"],\n",
    "    \"n_channels\": len(manifest[\"sensor_channels\"]),\n",
    "    \"paths\": manifest[\"paths\"],\n",
    "}, indent=2))\n",
    "\n",
    "# %% Load nested panels + labels\n",
    "train_nested = pd.read_pickle(ARTIFACTS_MINI / \"train_nested.pkl\")\n",
    "val_nested   = pd.read_pickle(ARTIFACTS_MINI / \"val_nested.pkl\")\n",
    "test_nested  = pd.read_pickle(ARTIFACTS_MINI / \"test_nested.pkl\")\n",
    "\n",
    "y_train = pd.read_parquet(ARTIFACTS_MINI / \"train_y.parquet\")[\"label_id\"].to_numpy()\n",
    "y_val   = pd.read_parquet(ARTIFACTS_MINI / \"val_y.parquet\")[\"label_id\"].to_numpy()\n",
    "y_test  = pd.read_parquet(ARTIFACTS_MINI / \"test_y.parquet\")[\"label_id\"].to_numpy()\n",
    "\n",
    "print(\"Shapes:\")\n",
    "print(\"  train:\", train_nested.shape, \"labels:\", y_train.shape)\n",
    "print(\"  val:  \", val_nested.shape,   \"labels:\", y_val.shape)\n",
    "print(\"  test: \", test_nested.shape, \"labels:\", y_test.shape)"
   ]
  },
  {
   "cell_type": "code",
   "execution_count": null,
   "id": "44b2d8cf-07bb-4b45-83fe-8ffc5928e230",
   "metadata": {},
   "outputs": [],
   "source": [
    "# Prepare y arrays (loaded earlier)\n",
    "# Assumes you already did:\n",
    "# train_nested, val_nested, test_nested\n",
    "# y_train, y_val, y_test\n",
    "\n",
    "ytr = np.asarray(y_train)\n",
    "yva = np.asarray(y_val)\n",
    "yte = np.asarray(y_test)\n",
    "\n",
    "# Optional: class names from manifest (if present)\n",
    "try:\n",
    "    with open(ARTIFACTS_MINI / \"splits.json\") as f:\n",
    "        _spl = json.load(f)\n",
    "    id_to_label = {int(k): v for k, v in _spl[\"id_to_label\"].items()}\n",
    "    classes_sorted = sorted(id_to_label.keys())\n",
    "    class_names = [id_to_label[c] for c in classes_sorted]\n",
    "except Exception:\n",
    "    id_to_label, class_names = None, None\n"
   ]
  },
  {
   "cell_type": "markdown",
   "id": "d18759cf-2407-4c1e-a1d3-df0c99c4ed15",
   "metadata": {},
   "source": [
    "## MiniRocket - Build Features"
   ]
  },
  {
   "cell_type": "code",
   "execution_count": null,
   "id": "c9f1ead4-bce8-4b48-87bc-f756d763c904",
   "metadata": {},
   "outputs": [],
   "source": [
    "# Fit MiniRocket \n",
    "from sktime.transformations.panel.rocket import MiniRocketMultivariate\n",
    "import numpy as np\n",
    "import pandas as pd\n",
    "from pathlib import Path\n",
    "import json\n",
    "import time\n",
    "from sklearn.linear_model import RidgeClassifierCV\n",
    "from sklearn.metrics import accuracy_score, f1_score, classification_report, confusion_matrix\n",
    "\n",
    "\n",
    "# Fit MiniRocket on train\n",
    "seed = 42\n",
    "t0 = time.time()\n",
    "trf = MiniRocketMultivariate(random_state=seed)\n",
    "trf.fit(train_nested)\n",
    "t_fit = time.time() - t0\n",
    "print(f\"MiniRocket fitted in {t_fit:.2f}s\")\n",
    "\n",
    "# Transform splits\n",
    "t0 = time.time()\n",
    "Xtr = trf.transform(train_nested)\n",
    "Xva = trf.transform(val_nested)\n",
    "Xte = trf.transform(test_nested)\n",
    "t_tr = time.time() - t0\n",
    "print(\"Shapes after transform:\", Xtr.shape, Xva.shape, Xte.shape)\n",
    "print(f\"Transforms done in {t_tr:.2f}s\")\n"
   ]
  },
  {
   "cell_type": "markdown",
   "id": "a477e4da-a4bf-450f-8229-092882e5f266",
   "metadata": {},
   "source": [
    "## RidgeClassifierCV - Train"
   ]
  },
  {
   "cell_type": "code",
   "execution_count": null,
   "id": "939afdcc-e7b6-456a-bf83-1fe0b3ae5e71",
   "metadata": {},
   "outputs": [],
   "source": [
    "# Train RidgeClassifierCV (fast, strong baseline)\n",
    "clf = RidgeClassifierCV(\n",
    "    alphas=np.logspace(-3, 3, 13),\n",
    "    class_weight=\"balanced\",\n",
    "    store_cv_values=False,\n",
    ")\n",
    "t0 = time.time()\n",
    "clf.fit(Xtr, ytr)\n",
    "t_clf = time.time() - t0\n",
    "print(f\"RidgeClassifierCV trained in {t_clf:.2f}s\")\n"
   ]
  },
  {
   "cell_type": "markdown",
   "id": "2df040f3-1526-4c11-bc8a-1265fb882f77",
   "metadata": {},
   "source": [
    "## Evaluate"
   ]
  },
  {
   "cell_type": "code",
   "execution_count": null,
   "id": "590ed457-1284-4407-b132-bfbb99226cec",
   "metadata": {},
   "outputs": [],
   "source": [
    "from sklearn.metrics import (\n",
    "    accuracy_score, f1_score, classification_report, confusion_matrix\n",
    ")\n",
    "\n",
    "# Evaluate helper\n",
    "def eval_split(X, y, name):\n",
    "    y_pred = clf.predict(X)\n",
    "    \n",
    "    # Core quick metrics\n",
    "    acc = accuracy_score(y, y_pred)\n",
    "    f1m = f1_score(y, y_pred, average=\"macro\")\n",
    "    f1w = f1_score(y, y_pred, average=\"weighted\")\n",
    "    \n",
    "    print(f\"[{name}] acc={acc:.4f}  f1_macro={f1m:.4f}  f1_weighted={f1w:.4f}\")\n",
    "    \n",
    "    # Report as dict\n",
    "    rep_dict = classification_report(\n",
    "        y, y_pred, target_names=class_names, zero_division=0, output_dict=True\n",
    "    )\n",
    "    rep_text = classification_report(\n",
    "        y, y_pred, target_names=class_names, zero_division=0\n",
    "    )\n",
    "    print(rep_text)\n",
    "    \n",
    "    cm = confusion_matrix(y, y_pred)\n",
    "    \n",
    "    # Build details structure\n",
    "    details = {\n",
    "        \"macro\": {\n",
    "            \"accuracy\": acc,\n",
    "            \"f1\": rep_dict[\"macro avg\"][\"f1-score\"],\n",
    "            \"precision\": rep_dict[\"macro avg\"][\"precision\"],\n",
    "            \"recall\": rep_dict[\"macro avg\"][\"recall\"],\n",
    "        },\n",
    "        \"weighted\": {\n",
    "            \"f1\": rep_dict[\"weighted avg\"][\"f1-score\"],\n",
    "            \"precision\": rep_dict[\"weighted avg\"][\"precision\"],\n",
    "            \"recall\": rep_dict[\"weighted avg\"][\"recall\"],\n",
    "        },\n",
    "        \"per_class\": {\n",
    "            cls: {\n",
    "                \"f1\": rep_dict[cls][\"f1-score\"],\n",
    "                \"precision\": rep_dict[cls][\"precision\"],\n",
    "                \"recall\": rep_dict[cls][\"recall\"],\n",
    "            }\n",
    "            for cls in class_names\n",
    "        }\n",
    "    }\n",
    "    \n",
    "    return {\n",
    "        \"accuracy\": acc,\n",
    "        \"f1_macro\": f1m,\n",
    "        \"f1_weighted\": f1w,\n",
    "        \"report\": rep_text,\n",
    "        \"confusion_matrix\": cm.tolist(),\n",
    "        \"details\": details,\n",
    "    }\n",
    "\n",
    "# Usage\n",
    "val_metrics  = eval_split(Xva, yva, \"VAL\")\n",
    "test_metrics = eval_split(Xte, yte, \"TEST\")\n"
   ]
  },
  {
   "cell_type": "markdown",
   "id": "08186674-5d2e-4802-8b13-e5d9a1b49227",
   "metadata": {},
   "source": [
    "## Persist"
   ]
  },
  {
   "cell_type": "code",
   "execution_count": null,
   "id": "fbac0b19-a30e-48d8-b0bb-b8c736f1e268",
   "metadata": {},
   "outputs": [],
   "source": [
    "import pickle\n",
    "\n",
    "summary = {\n",
    "    \"model\": \"MiniRocketMultivariate + RidgeClassifierCV\",\n",
    "    \"params\": {\n",
    "        \"random_state\": seed,\n",
    "        \"n_kernels\": int(Xtr.shape[1]),\n",
    "    },\n",
    "    \"train_time\": {\n",
    "        \"transformer_fit_s\": t_fit,\n",
    "        \"transform_s\": t_tr,\n",
    "        \"clf_fit_s\": t_clf,\n",
    "    },\n",
    "    \"val\": {k: (v if k != \"report\" else None) for k, v in val_metrics.items()},\n",
    "    \"test\": {k: (v if k != \"report\" else None) for k, v in test_metrics.items()},\n",
    "    \"class_names\": class_names,\n",
    "}\n",
    "\n",
    "# Save artifacts\n",
    "with open(RUN_DIR / \"transformer.pkl\", \"wb\") as f:\n",
    "    pickle.dump(trf, f)\n",
    "with open(RUN_DIR / \"classifier.pkl\", \"wb\") as f:\n",
    "    pickle.dump(clf, f)\n",
    "\n",
    "# Save metrics JSON\n",
    "pd.Series(summary, dtype=\"object\").to_json(RUN_DIR / \"metrics.json\", force_ascii=False)\n",
    "\n",
    "# Save full reports separately (human-readable)\n",
    "with open(RUN_DIR / \"val_classification_report.txt\", \"w\") as f:\n",
    "    f.write(val_metrics[\"report\"])\n",
    "with open(RUN_DIR / \"test_classification_report.txt\", \"w\") as f:\n",
    "    f.write(test_metrics[\"report\"])\n",
    "\n",
    "print(\"\\nSaved:\")\n",
    "print(\" \", RUN_DIR / \"transformer.pkl\")\n",
    "print(\" \", RUN_DIR / \"classifier.pkl\")\n",
    "print(\" \", RUN_DIR / \"metrics.json\")\n",
    "print(\" \", RUN_DIR / \"val_classification_report.txt\")\n",
    "print(\" \", RUN_DIR / \"test_classification_report.txt\")\n"
   ]
  },
  {
   "cell_type": "code",
   "execution_count": null,
   "id": "d5cefa6b-dbc0-418a-bfb2-bb96cd3a5bc7",
   "metadata": {},
   "outputs": [],
   "source": []
  },
  {
   "cell_type": "code",
   "execution_count": null,
   "id": "ce668211-10ec-41cd-9bc2-f3c95bf848e7",
   "metadata": {},
   "outputs": [],
   "source": []
  },
  {
   "cell_type": "code",
   "execution_count": null,
   "id": "5ddbc8f3-0958-46df-844b-27fa5c1deb9c",
   "metadata": {},
   "outputs": [],
   "source": []
  },
  {
   "cell_type": "code",
   "execution_count": null,
   "id": "0f40ddf5-6f91-4d63-9f8e-06edd4a33b3e",
   "metadata": {},
   "outputs": [],
   "source": []
  },
  {
   "cell_type": "code",
   "execution_count": null,
   "id": "91a8cc3e-798d-4910-b161-86268f23c884",
   "metadata": {},
   "outputs": [],
   "source": []
  },
  {
   "cell_type": "code",
   "execution_count": null,
   "id": "808ade01-4883-47aa-a64f-c52ba01bad7a",
   "metadata": {},
   "outputs": [],
   "source": []
  },
  {
   "cell_type": "code",
   "execution_count": null,
   "id": "8a83e514-ef50-443d-a605-8c78f09235df",
   "metadata": {},
   "outputs": [],
   "source": []
  },
  {
   "cell_type": "code",
   "execution_count": null,
   "id": "b9174075-857d-4598-a852-5f85fc6780b1",
   "metadata": {},
   "outputs": [],
   "source": []
  },
  {
   "cell_type": "code",
   "execution_count": null,
   "id": "f3daab75-7156-49bc-b61c-9bb39ba85010",
   "metadata": {},
   "outputs": [],
   "source": []
  },
  {
   "cell_type": "code",
   "execution_count": null,
   "id": "46a77942-4d57-4f4a-b881-1365858698e7",
   "metadata": {},
   "outputs": [],
   "source": []
  }
 ],
 "metadata": {
  "kernelspec": {
   "display_name": "Python 3 (ipykernel)",
   "language": "python",
   "name": "python3"
  },
  "language_info": {
   "codemirror_mode": {
    "name": "ipython",
    "version": 3
   },
   "file_extension": ".py",
   "mimetype": "text/x-python",
   "name": "python",
   "nbconvert_exporter": "python",
   "pygments_lexer": "ipython3",
   "version": "3.11.12"
  }
 },
 "nbformat": 4,
 "nbformat_minor": 5
}
