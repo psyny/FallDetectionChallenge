{
 "cells": [
  {
   "cell_type": "markdown",
   "id": "9a4304f4-f035-405e-a94b-f9a4c370d6ab",
   "metadata": {},
   "source": [
    "# Dataset Download\n",
    "\n",
    "Downloads the Challenge dataset from google drive if the `data/raw` folder is empty.\n",
    "\n",
    "## Limitations\n",
    "\n",
    "- Google Drive folder in the URL should be public.\n",
    "- Google rate limiters might prevent this code from downloading it. If thats the case, its best to download the data manually and move it to the `data/raw` folder of this project"
   ]
  },
  {
   "cell_type": "code",
   "execution_count": null,
   "id": "5b324475-2a92-46fb-a688-0559666a1128",
   "metadata": {},
   "outputs": [],
   "source": [
    "url = \"https://drive.google.com/drive/folders/1Rr5eI8btUAKqDjmDc2vxRyu0C0yRX1Xl\""
   ]
  },
  {
   "cell_type": "code",
   "execution_count": null,
   "id": "49c94d0f-8071-4f7b-9008-4011af9aa47b",
   "metadata": {},
   "outputs": [],
   "source": [
    "import os\n",
    "import gdown\n",
    "\n",
    "# Target directory\n",
    "output_dir = os.path.join(\"..\", \"data\", \"raw\")\n",
    "os.makedirs(output_dir, exist_ok=True)\n",
    "\n",
    "# Check if directory already has files (excluding .gitignore)\n",
    "existing_files = [f for f in os.listdir(output_dir) if f != \".gitignore\"]\n",
    "\n",
    "if existing_files:\n",
    "    print(f\"⚡ Skipping download, found existing files in {output_dir}\")\n",
    "else:\n",
    "    print(\"⬇️  Downloading dataset from Google Drive...\")\n",
    "    gdown.download_folder(url, output=output_dir, quiet=False, use_cookies=False)\n",
    "    print(f\"✅ Download complete. Files saved in: {output_dir}\")\n"
   ]
  },
  {
   "cell_type": "code",
   "execution_count": null,
   "id": "56bc8d79-bc45-48bd-a724-5f1cf9ee6bb3",
   "metadata": {},
   "outputs": [],
   "source": []
  }
 ],
 "metadata": {
  "kernelspec": {
   "display_name": "Python (fall-detection)",
   "language": "python",
   "name": "fall-detection"
  },
  "language_info": {
   "codemirror_mode": {
    "name": "ipython",
    "version": 3
   },
   "file_extension": ".py",
   "mimetype": "text/x-python",
   "name": "python",
   "nbconvert_exporter": "python",
   "pygments_lexer": "ipython3",
   "version": "3.11.12"
  }
 },
 "nbformat": 4,
 "nbformat_minor": 5
}
